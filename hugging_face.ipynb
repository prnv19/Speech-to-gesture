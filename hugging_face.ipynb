{
 "cells": [
  {
   "cell_type": "code",
   "execution_count": 7,
   "metadata": {},
   "outputs": [
    {
     "name": "stderr",
     "output_type": "stream",
     "text": [
      "Zipping Progress: 100%|██████████| 5331/5331 [12:34<00:00,  7.07files/s]  \n"
     ]
    }
   ],
   "source": [
    "import zipfile\n",
    "import os\n",
    "from tqdm import tqdm\n",
    "\n",
    "def zip_folders(folder_paths, zip_filename):\n",
    "    total_files = 0\n",
    "    for folder_path in folder_paths:\n",
    "        for root, dirs, files in os.walk(folder_path):\n",
    "            total_files += len(files)\n",
    "\n",
    "    with zipfile.ZipFile(zip_filename, 'w', zipfile.ZIP_DEFLATED) as zipf:\n",
    "        with tqdm(total=total_files, desc='Zipping Progress', unit='files') as pbar:\n",
    "            for folder_path in folder_paths:\n",
    "                for root, dirs, files in os.walk(folder_path):\n",
    "                    for file in files:\n",
    "                        file_path = os.path.join(root, file)\n",
    "                        arcname = os.path.relpath(file_path, folder_path)\n",
    "                        zipf.write(file_path, arcname=os.path.join(folder_path, arcname))\n",
    "                        pbar.update(1)\n",
    "\n",
    "# Example usage:\n",
    "folders_to_zip = ['dataset', 'evaluation', 'example_scripts', 'MoCap']\n",
    "zip_file_name = 'core_files.zip'\n",
    "\n",
    "zip_folders(folders_to_zip, zip_file_name)\n"
   ]
  },
  {
   "cell_type": "code",
   "execution_count": 2,
   "metadata": {},
   "outputs": [],
   "source": [
    "from huggingface_hub import login\n",
    "from huggingface_hub import HfApi"
   ]
  },
  {
   "cell_type": "code",
   "execution_count": 3,
   "metadata": {},
   "outputs": [
    {
     "name": "stdout",
     "output_type": "stream",
     "text": [
      "Token will not been saved to git credential helper. Pass `add_to_git_credential=True` if you want to set the git credential as well.\n",
      "Token is valid (permission: write).\n",
      "Your token has been saved to /home/ubuntu/.cache/huggingface/token\n",
      "Login successful\n"
     ]
    }
   ],
   "source": [
    "login(token='')"
   ]
  },
  {
   "cell_type": "code",
   "execution_count": 4,
   "metadata": {},
   "outputs": [
    {
     "data": {
      "application/vnd.jupyter.widget-view+json": {
       "model_id": "5898b84363684985b628c7ff8ee9fa62",
       "version_major": 2,
       "version_minor": 0
      },
      "text/plain": [
       "core_files.zip:   0%|          | 0.00/9.42G [00:00<?, ?B/s]"
      ]
     },
     "metadata": {},
     "output_type": "display_data"
    },
    {
     "data": {
      "application/vnd.jupyter.widget-view+json": {
       "model_id": "78068afdcc6d4aeb947438f8fd705401",
       "version_major": 2,
       "version_minor": 0
      },
      "text/plain": [
       "Upload 1 LFS files:   0%|          | 0/1 [00:00<?, ?it/s]"
      ]
     },
     "metadata": {},
     "output_type": "display_data"
    },
    {
     "data": {
      "text/plain": [
       "'https://huggingface.co/datasets/prnv19/geneva2022/blob/main/core_files.zip'"
      ]
     },
     "execution_count": 4,
     "metadata": {},
     "output_type": "execute_result"
    }
   ],
   "source": [
    "api = HfApi()\n",
    "api.upload_file(\n",
    "    path_or_fileobj=\"core_files.zip\",\n",
    "    path_in_repo=\"core_files.zip\",\n",
    "    repo_id=\"prnv19/geneva2022\",\n",
    "    repo_type=\"dataset\",\n",
    ")"
   ]
  }
 ],
 "metadata": {
  "kernelspec": {
   "display_name": "Python 3",
   "language": "python",
   "name": "python3"
  },
  "language_info": {
   "codemirror_mode": {
    "name": "ipython",
    "version": 3
   },
   "file_extension": ".py",
   "mimetype": "text/x-python",
   "name": "python",
   "nbconvert_exporter": "python",
   "pygments_lexer": "ipython3",
   "version": "3.8.10"
  },
  "orig_nbformat": 4
 },
 "nbformat": 4,
 "nbformat_minor": 2
}
